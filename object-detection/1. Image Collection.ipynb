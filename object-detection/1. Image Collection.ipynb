{
 "cells": [
  {
   "cell_type": "markdown",
   "metadata": {},
   "source": [
    "# 1. Import Dependencies"
   ]
  },
  {
   "cell_type": "code",
   "execution_count": 1,
   "metadata": {},
   "outputs": [
    {
     "name": "stdout",
     "output_type": "stream",
     "text": [
      "Collecting opencv-python\n",
      "  Using cached opencv_python-4.7.0.72-cp37-abi3-win_amd64.whl (38.2 MB)\n",
      "Collecting numpy>=1.21.2\n",
      "  Using cached numpy-1.24.2-cp310-cp310-win_amd64.whl (14.8 MB)\n",
      "Installing collected packages: numpy, opencv-python\n",
      "Successfully installed numpy-1.24.2 opencv-python-4.7.0.72\n"
     ]
    }
   ],
   "source": [
    "!pip install opencv-python"
   ]
  },
  {
   "cell_type": "code",
   "execution_count": 6,
   "metadata": {},
   "outputs": [],
   "source": [
    "# Import opencv\n",
    "import cv2 \n",
    "\n",
    "# Import uuid\n",
    "import uuid\n",
    "\n",
    "# Import Operating System\n",
    "import os\n",
    "\n",
    "# Import time\n",
    "import time"
   ]
  },
  {
   "cell_type": "markdown",
   "metadata": {},
   "source": [
    "# 2. Define Images to Collect"
   ]
  },
  {
   "cell_type": "code",
   "execution_count": 18,
   "metadata": {},
   "outputs": [],
   "source": [
    "labels = ['bottle']\n",
    "\n",
    "number_imgs = 4"
   ]
  },
  {
   "cell_type": "markdown",
   "metadata": {},
   "source": [
    "# 3. Setup Folders "
   ]
  },
  {
   "cell_type": "code",
   "execution_count": 11,
   "metadata": {},
   "outputs": [],
   "source": [
    "IMAGES_PATH = os.path.join('Tensorflow', 'workspace', 'images', 'collectedimages')"
   ]
  },
  {
   "cell_type": "code",
   "execution_count": 12,
   "metadata": {},
   "outputs": [],
   "source": [
    "if not os.path.exists(IMAGES_PATH):\n",
    "    if os.name == 'posix':\n",
    "        !mkdir -p {IMAGES_PATH}\n",
    "    if os.name == 'nt':\n",
    "         !mkdir {IMAGES_PATH}\n",
    "for label in labels:\n",
    "    path = os.path.join(IMAGES_PATH, label)\n",
    "    if not os.path.exists(path):\n",
    "        !mkdir {path}"
   ]
  },
  {
   "cell_type": "markdown",
   "metadata": {},
   "source": [
    "# 4. Capture Images"
   ]
  },
  {
   "cell_type": "code",
   "execution_count": 19,
   "metadata": {},
   "outputs": [
    {
     "name": "stdout",
     "output_type": "stream",
     "text": [
      "Collecting images for bottle\n",
      "Collecting image 0\n",
      "Collecting image 1\n",
      "Collecting image 2\n",
      "Collecting image 3\n"
     ]
    }
   ],
   "source": [
    "for label in labels:\n",
    "    cap = cv2.VideoCapture(0)\n",
    "    print('Collecting images for {}'.format(label))\n",
    "    time.sleep(5)\n",
    "    for imgnum in range(number_imgs):\n",
    "        print('Collecting image {}'.format(imgnum))\n",
    "        ret, frame = cap.read()\n",
    "        imgname = os.path.join(IMAGES_PATH,label,label+'.'+'{}.jpg'.format(str(uuid.uuid1())))\n",
    "        cv2.imwrite(imgname, frame)\n",
    "        cv2.imshow('frame', frame)\n",
    "        time.sleep(2)\n",
    "\n",
    "        if cv2.waitKey(1) & 0xFF == ord('q'):\n",
    "            break\n",
    "cap.release()\n",
    "cv2.destroyAllWindows()"
   ]
  },
  {
   "cell_type": "markdown",
   "metadata": {},
   "source": [
    "# 5. Image Labelling"
   ]
  },
  {
   "cell_type": "code",
   "execution_count": 20,
   "metadata": {},
   "outputs": [
    {
     "name": "stdout",
     "output_type": "stream",
     "text": [
      "Requirement already satisfied: pyqt5 in c:\\users\\qianc\\onedrive\\desktop\\tfodcourse\\tfod\\lib\\site-packages (5.15.9)\n",
      "Requirement already satisfied: lxml in c:\\users\\qianc\\onedrive\\desktop\\tfodcourse\\tfod\\lib\\site-packages (4.9.2)\n",
      "Requirement already satisfied: PyQt5-Qt5>=5.15.2 in c:\\users\\qianc\\onedrive\\desktop\\tfodcourse\\tfod\\lib\\site-packages (from pyqt5) (5.15.2)\n",
      "Requirement already satisfied: PyQt5-sip<13,>=12.11 in c:\\users\\qianc\\onedrive\\desktop\\tfodcourse\\tfod\\lib\\site-packages (from pyqt5) (12.11.1)\n"
     ]
    }
   ],
   "source": [
    "!pip install --upgrade pyqt5 lxml"
   ]
  },
  {
   "cell_type": "code",
   "execution_count": 21,
   "metadata": {},
   "outputs": [],
   "source": [
    "LABELIMG_PATH = os.path.join('Tensorflow', 'labelimg')"
   ]
  },
  {
   "cell_type": "code",
   "execution_count": 16,
   "metadata": {},
   "outputs": [
    {
     "name": "stderr",
     "output_type": "stream",
     "text": [
      "Cloning into 'Tensorflow\\labelimg'...\n"
     ]
    }
   ],
   "source": [
    "if not os.path.exists(LABELIMG_PATH):\n",
    "    !mkdir {LABELIMG_PATH}\n",
    "    !git clone https://github.com/tzutalin/labelImg {LABELIMG_PATH}"
   ]
  },
  {
   "cell_type": "code",
   "execution_count": 22,
   "metadata": {},
   "outputs": [],
   "source": [
    "if os.name == 'posix':\n",
    "    !make qt5py3\n",
    "if os.name =='nt':\n",
    "    !cd {LABELIMG_PATH} && pyrcc5 -o libs/resources.py resources.qrc"
   ]
  },
  {
   "cell_type": "code",
   "execution_count": 23,
   "metadata": {},
   "outputs": [
    {
     "name": "stdout",
     "output_type": "stream",
     "text": [
      "Image:C:\\Users\\qianc\\OneDrive\\Desktop\\TFODCourse\\Tensorflow\\workspace\\images\\collectedimages\\bottle\\bottle.8a5562ef-b516-11ed-ae50-b07d649f02bc.jpg -> Annotation:C:/Users/qianc/OneDrive/Desktop/TFODCourse/Tensorflow/workspace/images/collectedimages/bottle\\bottle.8a5562ef-b516-11ed-ae50-b07d649f02bc.xml\n",
      "Image:C:\\Users\\qianc\\OneDrive\\Desktop\\TFODCourse\\Tensorflow\\workspace\\images\\collectedimages\\bottle\\bottle.8b8d0d5e-b516-11ed-af45-b07d649f02bc.jpg -> Annotation:C:/Users/qianc/OneDrive/Desktop/TFODCourse/Tensorflow/workspace/images/collectedimages/bottle\\bottle.8b8d0d5e-b516-11ed-af45-b07d649f02bc.xml\n",
      "Image:C:\\Users\\qianc\\OneDrive\\Desktop\\TFODCourse\\Tensorflow\\workspace\\images\\collectedimages\\bottle\\bottle.8cc1a173-b516-11ed-a680-b07d649f02bc.jpg -> Annotation:C:/Users/qianc/OneDrive/Desktop/TFODCourse/Tensorflow/workspace/images/collectedimages/bottle\\bottle.8cc1a173-b516-11ed-a680-b07d649f02bc.xml\n",
      "Image:C:\\Users\\qianc\\OneDrive\\Desktop\\TFODCourse\\Tensorflow\\workspace\\images\\collectedimages\\bottle\\bottle.8df78030-b516-11ed-8589-b07d649f02bc.jpg -> Annotation:C:/Users/qianc/OneDrive/Desktop/TFODCourse/Tensorflow/workspace/images/collectedimages/bottle\\bottle.8df78030-b516-11ed-8589-b07d649f02bc.xml\n",
      "Image:C:\\Users\\qianc\\OneDrive\\Desktop\\TFODCourse\\Tensorflow\\workspace\\images\\collectedimages\\bottle\\bottle.8734bee4-b515-11ed-a061-b07d649f02bc.jpg -> Annotation:C:/Users/qianc/OneDrive/Desktop/TFODCourse/Tensorflow/workspace/images/collectedimages/bottle\\bottle.8734bee4-b515-11ed-a061-b07d649f02bc.xml\n",
      "Image:C:\\Users\\qianc\\OneDrive\\Desktop\\TFODCourse\\Tensorflow\\workspace\\images\\collectedimages\\bottle\\bottle.181053b5-b516-11ed-a0ba-b07d649f02bc.jpg -> Annotation:C:/Users/qianc/OneDrive/Desktop/TFODCourse/Tensorflow/workspace/images/collectedimages/bottle\\bottle.181053b5-b516-11ed-a0ba-b07d649f02bc.xml\n",
      "Image:C:\\Users\\qianc\\OneDrive\\Desktop\\TFODCourse\\Tensorflow\\workspace\\images\\collectedimages\\card\\card.55b79e9f-b516-11ed-ac8e-b07d649f02bc.jpg -> Annotation:C:/Users/qianc/OneDrive/Desktop/TFODCourse/Tensorflow/workspace/images/collectedimages/card\\card.55b79e9f-b516-11ed-ac8e-b07d649f02bc.xml\n",
      "Image:C:\\Users\\qianc\\OneDrive\\Desktop\\TFODCourse\\Tensorflow\\workspace\\images\\collectedimages\\card\\card.68b36489-b516-11ed-8385-b07d649f02bc.jpg -> Annotation:C:/Users/qianc/OneDrive/Desktop/TFODCourse/Tensorflow/workspace/images/collectedimages/card\\card.68b36489-b516-11ed-8385-b07d649f02bc.xml\n",
      "Image:C:\\Users\\qianc\\OneDrive\\Desktop\\TFODCourse\\Tensorflow\\workspace\\images\\collectedimages\\card\\card.534c879d-b516-11ed-9ecb-b07d649f02bc.jpg -> Annotation:C:/Users/qianc/OneDrive/Desktop/TFODCourse/Tensorflow/workspace/images/collectedimages/card\\card.534c879d-b516-11ed-9ecb-b07d649f02bc.xml\n",
      "Image:C:\\Users\\qianc\\OneDrive\\Desktop\\TFODCourse\\Tensorflow\\workspace\\images\\collectedimages\\card\\card.677e3c13-b516-11ed-9fab-b07d649f02bc.jpg -> Annotation:C:/Users/qianc/OneDrive/Desktop/TFODCourse/Tensorflow/workspace/images/collectedimages/card\\card.677e3c13-b516-11ed-9fab-b07d649f02bc.xml\n",
      "Image:C:\\Users\\qianc\\OneDrive\\Desktop\\TFODCourse\\Tensorflow\\workspace\\images\\collectedimages\\card\\card.5217d042-b516-11ed-9067-b07d649f02bc.jpg -> Annotation:C:/Users/qianc/OneDrive/Desktop/TFODCourse/Tensorflow/workspace/images/collectedimages/card\\card.5217d042-b516-11ed-9067-b07d649f02bc.xml\n",
      "Image:C:\\Users\\qianc\\OneDrive\\Desktop\\TFODCourse\\Tensorflow\\workspace\\images\\collectedimages\\card\\card.6512ae2c-b516-11ed-b712-b07d649f02bc.jpg -> Annotation:C:/Users/qianc/OneDrive/Desktop/TFODCourse/Tensorflow/workspace/images/collectedimages/card\\card.6512ae2c-b516-11ed-b712-b07d649f02bc.xml\n",
      "Image:C:\\Users\\qianc\\OneDrive\\Desktop\\TFODCourse\\Tensorflow\\workspace\\images\\collectedimages\\card\\card.6648f755-b516-11ed-8b03-b07d649f02bc.jpg -> Annotation:C:/Users/qianc/OneDrive/Desktop/TFODCourse/Tensorflow/workspace/images/collectedimages/card\\card.6648f755-b516-11ed-8b03-b07d649f02bc.xml\n",
      "Cancel creation.\n",
      "Image:C:\\Users\\qianc\\OneDrive\\Desktop\\TFODCourse\\Tensorflow\\workspace\\images\\collectedimages\\card\\card.54818980-b516-11ed-a0c5-b07d649f02bc.jpg -> Annotation:C:/Users/qianc/OneDrive/Desktop/TFODCourse/Tensorflow/workspace/images/collectedimages/card\\card.54818980-b516-11ed-a0c5-b07d649f02bc.xml\n",
      "Image:C:\\Users\\qianc\\OneDrive\\Desktop\\TFODCourse\\Tensorflow\\workspace\\images\\collectedimages\\phone\\phone.01b1d4f7-b516-11ed-b0e5-b07d649f02bc.jpg -> Annotation:C:/Users/qianc/OneDrive/Desktop/TFODCourse/Tensorflow/workspace/images/collectedimages/phone\\phone.01b1d4f7-b516-11ed-b0e5-b07d649f02bc.xml\n",
      "Image:C:\\Users\\qianc\\OneDrive\\Desktop\\TFODCourse\\Tensorflow\\workspace\\images\\collectedimages\\phone\\phone.02e8d167-b516-11ed-b8c3-b07d649f02bc.jpg -> Annotation:C:/Users/qianc/OneDrive/Desktop/TFODCourse/Tensorflow/workspace/images/collectedimages/phone\\phone.02e8d167-b516-11ed-b8c3-b07d649f02bc.xml\n",
      "Image:C:\\Users\\qianc\\OneDrive\\Desktop\\TFODCourse\\Tensorflow\\workspace\\images\\collectedimages\\phone\\phone.4b2583cb-b516-11ed-9bcd-b07d649f02bc.jpg -> Annotation:C:/Users/qianc/OneDrive/Desktop/TFODCourse/Tensorflow/workspace/images/collectedimages/phone\\phone.4b2583cb-b516-11ed-9bcd-b07d649f02bc.xml\n",
      "Image:C:\\Users\\qianc\\OneDrive\\Desktop\\TFODCourse\\Tensorflow\\workspace\\images\\collectedimages\\phone\\phone.4c59b753-b516-11ed-8d9d-b07d649f02bc.jpg -> Annotation:C:/Users/qianc/OneDrive/Desktop/TFODCourse/Tensorflow/workspace/images/collectedimages/phone\\phone.4c59b753-b516-11ed-8d9d-b07d649f02bc.xml\n",
      "Image:C:\\Users\\qianc\\OneDrive\\Desktop\\TFODCourse\\Tensorflow\\workspace\\images\\collectedimages\\phone\\phone.041db82c-b516-11ed-994e-b07d649f02bc.jpg -> Annotation:C:/Users/qianc/OneDrive/Desktop/TFODCourse/Tensorflow/workspace/images/collectedimages/phone\\phone.041db82c-b516-11ed-994e-b07d649f02bc.xml\n",
      "Image:C:\\Users\\qianc\\OneDrive\\Desktop\\TFODCourse\\Tensorflow\\workspace\\images\\collectedimages\\phone\\phone.49f1325b-b516-11ed-8811-b07d649f02bc.jpg -> Annotation:C:/Users/qianc/OneDrive/Desktop/TFODCourse/Tensorflow/workspace/images/collectedimages/phone\\phone.49f1325b-b516-11ed-8811-b07d649f02bc.xml\n",
      "Image:C:\\Users\\qianc\\OneDrive\\Desktop\\TFODCourse\\Tensorflow\\workspace\\images\\collectedimages\\phone\\phone.05525b12-b516-11ed-ab22-b07d649f02bc.jpg -> Annotation:C:/Users/qianc/OneDrive/Desktop/TFODCourse/Tensorflow/workspace/images/collectedimages/phone\\phone.05525b12-b516-11ed-ab22-b07d649f02bc.xml\n",
      "Image:C:\\Users\\qianc\\OneDrive\\Desktop\\TFODCourse\\Tensorflow\\workspace\\images\\collectedimages\\wallet\\wallet.8cf2cb96-b515-11ed-8499-b07d649f02bc.jpg -> Annotation:C:/Users/qianc/OneDrive/Desktop/TFODCourse/Tensorflow/workspace/images/collectedimages/wallet\\wallet.8cf2cb96-b515-11ed-8499-b07d649f02bc.xml\n",
      "Image:C:\\Users\\qianc\\OneDrive\\Desktop\\TFODCourse\\Tensorflow\\workspace\\images\\collectedimages\\wallet\\wallet.8e29004e-b515-11ed-bb59-b07d649f02bc.jpg -> Annotation:C:/Users/qianc/OneDrive/Desktop/TFODCourse/Tensorflow/workspace/images/collectedimages/wallet\\wallet.8e29004e-b515-11ed-bb59-b07d649f02bc.xml\n",
      "Cancel creation.\n",
      "Image:C:\\Users\\qianc\\OneDrive\\Desktop\\TFODCourse\\Tensorflow\\workspace\\images\\collectedimages\\wallet\\wallet.8f5cdaef-b515-11ed-825b-b07d649f02bc.jpg -> Annotation:C:/Users/qianc/OneDrive/Desktop/TFODCourse/Tensorflow/workspace/images/collectedimages/wallet\\wallet.8f5cdaef-b515-11ed-825b-b07d649f02bc.xml\n",
      "Image:C:\\Users\\qianc\\OneDrive\\Desktop\\TFODCourse\\Tensorflow\\workspace\\images\\collectedimages\\wallet\\wallet.216a5bb4-b516-11ed-b566-b07d649f02bc.jpg -> Annotation:C:/Users/qianc/OneDrive/Desktop/TFODCourse/Tensorflow/workspace/images/collectedimages/wallet\\wallet.216a5bb4-b516-11ed-b566-b07d649f02bc.xml\n",
      "Image:C:\\Users\\qianc\\OneDrive\\Desktop\\TFODCourse\\Tensorflow\\workspace\\images\\collectedimages\\wallet\\wallet.90910d01-b515-11ed-af16-b07d649f02bc.jpg -> Annotation:C:/Users/qianc/OneDrive/Desktop/TFODCourse/Tensorflow/workspace/images/collectedimages/wallet\\wallet.90910d01-b515-11ed-af16-b07d649f02bc.xml\n"
     ]
    }
   ],
   "source": [
    "!cd {LABELIMG_PATH} && python labelImg.py"
   ]
  },
  {
   "cell_type": "markdown",
   "metadata": {},
   "source": [
    "# 6. Move them into a Training and Testing Partition"
   ]
  },
  {
   "cell_type": "markdown",
   "metadata": {},
   "source": [
    "# OPTIONAL - 7. Compress them for Colab Training"
   ]
  },
  {
   "cell_type": "code",
   "execution_count": 20,
   "metadata": {},
   "outputs": [],
   "source": [
    "TRAIN_PATH = os.path.join('Tensorflow', 'workspace', 'images', 'train')\n",
    "TEST_PATH = os.path.join('Tensorflow', 'workspace', 'images', 'test')\n",
    "ARCHIVE_PATH = os.path.join('Tensorflow', 'workspace', 'images', 'archive.tar.gz')"
   ]
  },
  {
   "cell_type": "code",
   "execution_count": 21,
   "metadata": {},
   "outputs": [],
   "source": [
    "!tar -czf {ARCHIVE_PATH} {TRAIN_PATH} {TEST_PATH}"
   ]
  },
  {
   "cell_type": "code",
   "execution_count": null,
   "metadata": {},
   "outputs": [],
   "source": []
  }
 ],
 "metadata": {
  "kernelspec": {
   "display_name": "tfodj",
   "language": "python",
   "name": "tfodj"
  },
  "language_info": {
   "codemirror_mode": {
    "name": "ipython",
    "version": 3
   },
   "file_extension": ".py",
   "mimetype": "text/x-python",
   "name": "python",
   "nbconvert_exporter": "python",
   "pygments_lexer": "ipython3",
   "version": "3.10.10"
  }
 },
 "nbformat": 4,
 "nbformat_minor": 2
}
